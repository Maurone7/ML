{
 "cells": [
  {
   "cell_type": "code",
   "execution_count": 6,
   "metadata": {},
   "outputs": [
    {
     "name": "stdout",
     "output_type": "stream",
     "text": [
      "Parameter containing:\n",
      "tensor([[ 1.0001e+00, -4.1374e-05],\n",
      "        [ 3.3480e-05,  9.9992e-01]], requires_grad=True)\n",
      "[[1.  2. ]\n",
      " [0.5 1. ]]\n"
     ]
    }
   ],
   "source": [
    "import numpy as np\n",
    "from scipy.integrate import odeint\n",
    "import torch\n",
    "import torch.nn as nn\n",
    "import matplotlib.pyplot as plt\n",
    "\n",
    "x0 = np.array([0, 0])\n",
    "A = np.array([[1, 2], [0.5, 1]])\n",
    "\n",
    "update_x = lambda x, t: A @ x\n",
    "\n",
    "num_steps = 100\n",
    "T = 15\n",
    "dt = T / num_steps\n",
    "\n",
    "t = np.linspace(0, T, num_steps)\n",
    "x = odeint(update_x, x0, t, full_output=True)\n",
    "\n",
    "# Add noise to the data\n",
    "x = x[0] + np.random.normal(0, 0.1, x[0].shape)\n",
    "\n",
    "x = torch.tensor(x, dtype=torch.float32)\n",
    "\n",
    "# Define the model\n",
    "class LinearModel(nn.Module):\n",
    "    def __init__(self):\n",
    "        super(LinearModel, self).__init__()\n",
    "        self.A = nn.Parameter(torch.randn(2, 2))\n",
    "\n",
    "    def forward(self, x):\n",
    "        return self.A @ x.t()\n",
    "    \n",
    "model = LinearModel()\n",
    "\n",
    "# Define the loss function\n",
    "criterion = torch.nn.MSELoss()\n",
    "\n",
    "# Define the optimizer\n",
    "optimizer = torch.optim.SGD(model.parameters(), lr=0.1)\n",
    "\n",
    "# Train the model\n",
    "for epoch in range(10000):\n",
    "    optimizer.zero_grad()\n",
    "    output = model(x)\n",
    "    loss = criterion(output.t(), x)\n",
    "    loss.backward()\n",
    "    optimizer.step()\n",
    "    # print(f'Epoch {epoch+1}, Loss: {loss.item()}')\n",
    "\n",
    "print(model.A)\n",
    "\n",
    "# Compare the learned A with the true A\n",
    "print(A)"
   ]
  }
 ],
 "metadata": {
  "kernelspec": {
   "display_name": "Python 3",
   "language": "python",
   "name": "python3"
  },
  "language_info": {
   "codemirror_mode": {
    "name": "ipython",
    "version": 3
   },
   "file_extension": ".py",
   "mimetype": "text/x-python",
   "name": "python",
   "nbconvert_exporter": "python",
   "pygments_lexer": "ipython3",
   "version": "3.12.2"
  }
 },
 "nbformat": 4,
 "nbformat_minor": 2
}
